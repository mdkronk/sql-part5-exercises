{
    "metadata": {
        "kernelspec": {
            "name": "SQL",
            "display_name": "SQL",
            "language": "sql"
        },
        "language_info": {
            "name": "sql",
            "version": ""
        }
    },
    "nbformat_minor": 2,
    "nbformat": 4,
    "cells": [
        {
            "cell_type": "markdown",
            "source": [
                "# Exercises: Creating, Updating, and Destroying Objects\n",
                "\n",
                "For the exercises, you will be working with objects and data you create. Before opening this notebook, make sure that you have set up the new connection to the server and that you have located the database and your schema.\n",
                "\n",
                "## Object Creation\n",
                "\n",
                "Before coding, think of three things you want to make. These could be coding projects, new recipes, or planned projects for a woodworking hobby. Brainstorm the appropriate column names and data types as well.\n",
                "\n",
                "Create a table under your schema called `planned_makes`."
            ],
            "metadata": {
                "azdata_cell_guid": "9d51c166-0c19-4f27-a422-2a6cf596bfb2"
            },
            "attachments": {}
        },
        {
            "cell_type": "code",
            "source": [
                "create table Marrion.planned_makes (\r\n",
                "    planned_make_id int primary key identity(1,1),\r\n",
                "    make_name varchar(50) not null,\r\n",
                "    is_active bit not null\r\n",
                ")"
            ],
            "metadata": {
                "azdata_cell_guid": "d9238911-6f81-4f01-980d-b584307effaf",
                "language": "sql"
            },
            "outputs": [
                {
                    "output_type": "display_data",
                    "data": {
                        "text/html": "Commands completed successfully."
                    },
                    "metadata": {}
                },
                {
                    "output_type": "display_data",
                    "data": {
                        "text/html": "Total execution time: 00:00:00.038"
                    },
                    "metadata": {}
                }
            ],
            "execution_count": 11
        },
        {
            "cell_type": "markdown",
            "source": [
                "Add three rows to your table that are your planned makes."
            ],
            "metadata": {
                "azdata_cell_guid": "83cdf34d-8c4f-4fa1-a14e-77384b19d734"
            }
        },
        {
            "cell_type": "code",
            "source": [
                "insert into Marrion.planned_makes (make_name, is_active)\r\n",
                "values \r\n",
                "('Make A', 1),\r\n",
                "('Make B', 1),\r\n",
                "('Make C', 1)\r\n",
                "\r\n",
                "select * from Marrion.planned_makes"
            ],
            "metadata": {
                "azdata_cell_guid": "e7cff9cb-87ba-4c7b-98f2-eaf445e8719c",
                "language": "sql"
            },
            "outputs": [
                {
                    "output_type": "display_data",
                    "data": {
                        "text/html": "(3 rows affected)"
                    },
                    "metadata": {}
                },
                {
                    "output_type": "display_data",
                    "data": {
                        "text/html": "(3 rows affected)"
                    },
                    "metadata": {}
                },
                {
                    "output_type": "display_data",
                    "data": {
                        "text/html": "Total execution time: 00:00:00.041"
                    },
                    "metadata": {}
                },
                {
                    "output_type": "execute_result",
                    "metadata": {},
                    "execution_count": 12,
                    "data": {
                        "application/vnd.dataresource+json": {
                            "schema": {
                                "fields": [
                                    {
                                        "name": "planned_make_id"
                                    },
                                    {
                                        "name": "make_name"
                                    },
                                    {
                                        "name": "is_active"
                                    }
                                ]
                            },
                            "data": [
                                {
                                    "0": "1",
                                    "1": "Make A",
                                    "2": "1"
                                },
                                {
                                    "0": "2",
                                    "1": "Make B",
                                    "2": "1"
                                },
                                {
                                    "0": "3",
                                    "1": "Make C",
                                    "2": "1"
                                }
                            ]
                        },
                        "text/html": [
                            "<table>",
                            "<tr><th>planned_make_id</th><th>make_name</th><th>is_active</th></tr>",
                            "<tr><td>1</td><td>Make A</td><td>1</td></tr>",
                            "<tr><td>2</td><td>Make B</td><td>1</td></tr>",
                            "<tr><td>3</td><td>Make C</td><td>1</td></tr>",
                            "</table>"
                        ]
                    }
                }
            ],
            "execution_count": 12
        },
        {
            "cell_type": "markdown",
            "source": [
                "## Update a Row\n",
                "\n",
                "Change different values in one of your three rows."
            ],
            "metadata": {
                "azdata_cell_guid": "4a39b8d4-ae97-4e09-8336-c5fc6a00d76c"
            },
            "attachments": {}
        },
        {
            "cell_type": "code",
            "source": [
                "update Marrion.planned_makes\r\n",
                "set is_active = 0\r\n",
                "where planned_make_id = 1\r\n",
                "\r\n",
                "select * from Marrion.planned_makes"
            ],
            "metadata": {
                "azdata_cell_guid": "7409c695-9581-4ad8-b03a-574d2c4c87cb",
                "language": "sql"
            },
            "outputs": [
                {
                    "output_type": "display_data",
                    "data": {
                        "text/html": "(1 row affected)"
                    },
                    "metadata": {}
                },
                {
                    "output_type": "display_data",
                    "data": {
                        "text/html": "(3 rows affected)"
                    },
                    "metadata": {}
                },
                {
                    "output_type": "display_data",
                    "data": {
                        "text/html": "Total execution time: 00:00:00.040"
                    },
                    "metadata": {}
                },
                {
                    "output_type": "execute_result",
                    "metadata": {},
                    "execution_count": 13,
                    "data": {
                        "application/vnd.dataresource+json": {
                            "schema": {
                                "fields": [
                                    {
                                        "name": "planned_make_id"
                                    },
                                    {
                                        "name": "make_name"
                                    },
                                    {
                                        "name": "is_active"
                                    }
                                ]
                            },
                            "data": [
                                {
                                    "0": "1",
                                    "1": "Make A",
                                    "2": "0"
                                },
                                {
                                    "0": "2",
                                    "1": "Make B",
                                    "2": "1"
                                },
                                {
                                    "0": "3",
                                    "1": "Make C",
                                    "2": "1"
                                }
                            ]
                        },
                        "text/html": [
                            "<table>",
                            "<tr><th>planned_make_id</th><th>make_name</th><th>is_active</th></tr>",
                            "<tr><td>1</td><td>Make A</td><td>0</td></tr>",
                            "<tr><td>2</td><td>Make B</td><td>1</td></tr>",
                            "<tr><td>3</td><td>Make C</td><td>1</td></tr>",
                            "</table>"
                        ]
                    }
                }
            ],
            "execution_count": 13
        },
        {
            "cell_type": "markdown",
            "source": [
                "## Delete a Row\n",
                "\n",
                "Delete one of the rows from your table."
            ],
            "metadata": {
                "azdata_cell_guid": "95e91a6e-9038-42d9-9401-5738842aba17"
            }
        },
        {
            "cell_type": "code",
            "source": [
                "delete from Marrion.planned_makes\r\n",
                "where planned_make_id = 3\r\n",
                "\r\n",
                "select * from Marrion.planned_makes"
            ],
            "metadata": {
                "azdata_cell_guid": "749c748f-19b5-4c69-9004-b6b20216616a",
                "language": "sql"
            },
            "outputs": [
                {
                    "output_type": "display_data",
                    "data": {
                        "text/html": "(1 row affected)"
                    },
                    "metadata": {}
                },
                {
                    "output_type": "display_data",
                    "data": {
                        "text/html": "(2 rows affected)"
                    },
                    "metadata": {}
                },
                {
                    "output_type": "display_data",
                    "data": {
                        "text/html": "Total execution time: 00:00:00.040"
                    },
                    "metadata": {}
                },
                {
                    "output_type": "execute_result",
                    "metadata": {},
                    "execution_count": 14,
                    "data": {
                        "application/vnd.dataresource+json": {
                            "schema": {
                                "fields": [
                                    {
                                        "name": "planned_make_id"
                                    },
                                    {
                                        "name": "make_name"
                                    },
                                    {
                                        "name": "is_active"
                                    }
                                ]
                            },
                            "data": [
                                {
                                    "0": "1",
                                    "1": "Make A",
                                    "2": "0"
                                },
                                {
                                    "0": "2",
                                    "1": "Make B",
                                    "2": "1"
                                }
                            ]
                        },
                        "text/html": [
                            "<table>",
                            "<tr><th>planned_make_id</th><th>make_name</th><th>is_active</th></tr>",
                            "<tr><td>1</td><td>Make A</td><td>0</td></tr>",
                            "<tr><td>2</td><td>Make B</td><td>1</td></tr>",
                            "</table>"
                        ]
                    }
                }
            ],
            "execution_count": 14
        },
        {
            "cell_type": "markdown",
            "source": [
                "## Drop the Table\n",
                "\n",
                "While this has been fun, it is time to drop the table!"
            ],
            "metadata": {
                "azdata_cell_guid": "2239cb09-137b-4579-905b-1aa020793181"
            },
            "attachments": {}
        },
        {
            "cell_type": "code",
            "source": [
                "drop table Marrion.planned_makes"
            ],
            "metadata": {
                "azdata_cell_guid": "b3c7f6ea-ee26-46b3-9c2a-2f7a82c39699",
                "language": "sql"
            },
            "outputs": [
                {
                    "output_type": "display_data",
                    "data": {
                        "text/html": "Commands completed successfully."
                    },
                    "metadata": {}
                },
                {
                    "output_type": "display_data",
                    "data": {
                        "text/html": "Total execution time: 00:00:00.050"
                    },
                    "metadata": {}
                }
            ],
            "execution_count": 15
        }
    ]
}